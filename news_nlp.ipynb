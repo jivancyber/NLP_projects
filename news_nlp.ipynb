{
  "nbformat": 4,
  "nbformat_minor": 0,
  "metadata": {
    "colab": {
      "name": "news_nlp.ipynb",
      "provenance": [],
      "authorship_tag": "ABX9TyNhtvQ3+SUhUWCx96ar70Eo",
      "include_colab_link": true
    },
    "kernelspec": {
      "name": "python3",
      "display_name": "Python 3"
    },
    "language_info": {
      "name": "python"
    }
  },
  "cells": [
    {
      "cell_type": "markdown",
      "metadata": {
        "id": "view-in-github",
        "colab_type": "text"
      },
      "source": [
        "<a href=\"https://colab.research.google.com/github/jivancyber/NLP_projects/blob/main/news_nlp.ipynb\" target=\"_parent\"><img src=\"https://colab.research.google.com/assets/colab-badge.svg\" alt=\"Open In Colab\"/></a>"
      ]
    },
    {
      "cell_type": "code",
      "metadata": {
        "id": "v06rVq4yM0nC"
      },
      "source": [
        "## we will do text classification on sklearn newsgroups dataset which is very popular dataset.\n",
        "## Dataset has 20 categories but we will do text classification only on 4 categories."
      ],
      "execution_count": null,
      "outputs": []
    },
    {
      "cell_type": "code",
      "metadata": {
        "id": "pOBrpO02MpkH"
      },
      "source": [
        "#import directly using sklearn \n",
        "\n",
        "from sklearn.datasets import fetch_20newsgroups "
      ],
      "execution_count": null,
      "outputs": []
    },
    {
      "cell_type": "code",
      "metadata": {
        "colab": {
          "base_uri": "https://localhost:8080/"
        },
        "cellView": "code",
        "id": "6cEYaK0i0t9u",
        "outputId": "18a3cde1-3496-411d-ab26-0ee44865338a"
      },
      "source": [
        "data=fetch_20newsgroups(subset='train')"
      ],
      "execution_count": null,
      "outputs": [
        {
          "output_type": "stream",
          "text": [
            "Downloading 20news dataset. This may take a few minutes.\n",
            "Downloading dataset from https://ndownloader.figshare.com/files/5975967 (14 MB)\n"
          ],
          "name": "stderr"
        }
      ]
    },
    {
      "cell_type": "code",
      "metadata": {
        "id": "8jX_51UR4vy0"
      },
      "source": [
        "#news group dataset has multiple categories but we will select only four categories"
      ],
      "execution_count": null,
      "outputs": []
    },
    {
      "cell_type": "code",
      "metadata": {
        "colab": {
          "base_uri": "https://localhost:8080/"
        },
        "id": "KdUQYgJR0t8G",
        "outputId": "8b907085-99b7-41da-8b1f-9b0aead765da"
      },
      "source": [
        "data.target_names"
      ],
      "execution_count": null,
      "outputs": [
        {
          "output_type": "execute_result",
          "data": {
            "text/plain": [
              "['alt.atheism',\n",
              " 'comp.graphics',\n",
              " 'comp.os.ms-windows.misc',\n",
              " 'comp.sys.ibm.pc.hardware',\n",
              " 'comp.sys.mac.hardware',\n",
              " 'comp.windows.x',\n",
              " 'misc.forsale',\n",
              " 'rec.autos',\n",
              " 'rec.motorcycles',\n",
              " 'rec.sport.baseball',\n",
              " 'rec.sport.hockey',\n",
              " 'sci.crypt',\n",
              " 'sci.electronics',\n",
              " 'sci.med',\n",
              " 'sci.space',\n",
              " 'soc.religion.christian',\n",
              " 'talk.politics.guns',\n",
              " 'talk.politics.mideast',\n",
              " 'talk.politics.misc',\n",
              " 'talk.religion.misc']"
            ]
          },
          "metadata": {
            "tags": []
          },
          "execution_count": 4
        }
      ]
    },
    {
      "cell_type": "code",
      "metadata": {
        "id": "5KEFR40EM2rz"
      },
      "source": [
        "# we will do our text classification on four categories.\n",
        "cat = ['comp.graphics', 'sci.med','rec.motorcycles','sci.space']\n"
      ],
      "execution_count": null,
      "outputs": []
    },
    {
      "cell_type": "code",
      "metadata": {
        "id": "hZ3wtECVM2g0"
      },
      "source": [
        "# seperate the train_data and test_data \n",
        "\n",
        "train_data=fetch_20newsgroups(subset='train',categories=cat,shuffle=True)\n",
        "test_data=fetch_20newsgroups(subset='test',categories=cat,shuffle=True)"
      ],
      "execution_count": null,
      "outputs": []
    },
    {
      "cell_type": "code",
      "metadata": {
        "colab": {
          "base_uri": "https://localhost:8080/"
        },
        "id": "bNsPwxw-M2Yz",
        "outputId": "4a5ddf86-a8b2-4571-c968-de12412d22e1"
      },
      "source": [
        "#keys of train_data\n",
        "train_data.keys()"
      ],
      "execution_count": null,
      "outputs": [
        {
          "output_type": "execute_result",
          "data": {
            "text/plain": [
              "dict_keys(['data', 'filenames', 'target_names', 'target', 'DESCR'])"
            ]
          },
          "metadata": {
            "tags": []
          },
          "execution_count": 7
        }
      ]
    },
    {
      "cell_type": "code",
      "metadata": {
        "colab": {
          "base_uri": "https://localhost:8080/"
        },
        "id": "ZzTl2pT6M2Q7",
        "outputId": "7fdfaf76-1d97-42d1-dc9d-42f4111e4f14"
      },
      "source": [
        "#target on which we will perform classifiaction\n",
        "train_data.target_names"
      ],
      "execution_count": null,
      "outputs": [
        {
          "output_type": "execute_result",
          "data": {
            "text/plain": [
              "['comp.graphics', 'rec.motorcycles', 'sci.med', 'sci.space']"
            ]
          },
          "metadata": {
            "tags": []
          },
          "execution_count": 8
        }
      ]
    },
    {
      "cell_type": "code",
      "metadata": {
        "colab": {
          "base_uri": "https://localhost:8080/"
        },
        "id": "iPuUJc4eSEDV",
        "outputId": "4b72edb7-46ab-47d1-8a22-1ca5ab4c161f"
      },
      "source": [
        "# here, we performed vectorizaion on train_data.data \n",
        "# basically vectorization assigns a unique number to each word\n",
        "\n",
        "from sklearn.feature_extraction.text import CountVectorizer\n",
        "count=CountVectorizer()\n",
        "vect_train=count.fit_transform(train_data.data)\n",
        "vect_train.shape\n"
      ],
      "execution_count": null,
      "outputs": [
        {
          "output_type": "execute_result",
          "data": {
            "text/plain": [
              "(2369, 37745)"
            ]
          },
          "metadata": {
            "tags": []
          },
          "execution_count": 9
        }
      ]
    },
    {
      "cell_type": "code",
      "metadata": {
        "colab": {
          "base_uri": "https://localhost:8080/"
        },
        "id": "A7GaXb53SD9f",
        "outputId": "b73986d1-7f89-47fa-fa42-38bf2147d155"
      },
      "source": [
        "# here, we did tf(term frequency) and idf(inverse document frequency)\n",
        "# Tf determines that howmany times a word comes in our document.\n",
        "#Idf assigns a lowest score to that word which repeat more times.\n",
        "\n",
        "from sklearn.feature_extraction.text import TfidfTransformer\n",
        "tf_idf=TfidfTransformer()\n",
        "tfidf_train=tf_idf.fit_transform(vect_train)\n",
        "tfidf_train.shape"
      ],
      "execution_count": null,
      "outputs": [
        {
          "output_type": "execute_result",
          "data": {
            "text/plain": [
              "(2369, 37745)"
            ]
          },
          "metadata": {
            "tags": []
          },
          "execution_count": 10
        }
      ]
    },
    {
      "cell_type": "code",
      "metadata": {
        "id": "Kj6eNx87nECD"
      },
      "source": [
        "#we will use MultinomialNB algorithm for classification\n",
        "#because Multinomial Naive Bayes algorithm is a probabilistic learning method that is mostly used in Natural Language Processing (NLP).\n",
        "\n",
        "from sklearn.naive_bayes import MultinomialNB\n",
        "nb=MultinomialNB()\n",
        "model=nb.fit(tfidf_train,train_data.target)"
      ],
      "execution_count": null,
      "outputs": []
    },
    {
      "cell_type": "code",
      "metadata": {
        "id": "o-91IbT0ohn9"
      },
      "source": [
        "#here, we have performed same process on test data, as performed on training data \n",
        "\n",
        "vect_test=count.transform(test_data.data)\n",
        "tfidf_test=tf_idf.transform(vect_test)\n",
        "\n",
        "#prediction on test data\n",
        "pred=nb.predict(tfidf_test)\n"
      ],
      "execution_count": null,
      "outputs": []
    },
    {
      "cell_type": "code",
      "metadata": {
        "id": "5TIp-KB3ohlu"
      },
      "source": [
        "#import metrics to find accuracy_score and precision\n",
        "from sklearn import metrics\n",
        "from sklearn.metrics import accuracy_score"
      ],
      "execution_count": null,
      "outputs": []
    },
    {
      "cell_type": "code",
      "metadata": {
        "colab": {
          "base_uri": "https://localhost:8080/"
        },
        "id": "GUG-GrbSohi8",
        "outputId": "64c34a24-db8f-4ed5-ebd0-276a63028fab"
      },
      "source": [
        "accuracy_score(test_data.target,pred)"
      ],
      "execution_count": null,
      "outputs": [
        {
          "output_type": "execute_result",
          "data": {
            "text/plain": [
              "0.9448319594166138"
            ]
          },
          "metadata": {
            "tags": []
          },
          "execution_count": 14
        }
      ]
    },
    {
      "cell_type": "code",
      "metadata": {
        "colab": {
          "base_uri": "https://localhost:8080/"
        },
        "id": "Jj20oxkXohgk",
        "outputId": "084c1691-f45a-4c8b-f5ed-84f033db9a35"
      },
      "source": [
        "print(metrics.classification_report(test_data.target,pred,target_names=test_data.target_names)),metrics.confusion_matrix(test_data.target,pred)"
      ],
      "execution_count": null,
      "outputs": [
        {
          "output_type": "stream",
          "text": [
            "                 precision    recall  f1-score   support\n",
            "\n",
            "  comp.graphics       0.97      0.88      0.92       389\n",
            "rec.motorcycles       0.94      0.99      0.97       398\n",
            "        sci.med       0.95      0.93      0.94       396\n",
            "      sci.space       0.92      0.96      0.94       394\n",
            "\n",
            "       accuracy                           0.94      1577\n",
            "      macro avg       0.95      0.94      0.94      1577\n",
            "   weighted avg       0.95      0.94      0.94      1577\n",
            "\n"
          ],
          "name": "stdout"
        },
        {
          "output_type": "execute_result",
          "data": {
            "text/plain": [
              "(None, array([[344,  13,  12,  20],\n",
              "        [  0, 396,   0,   2],\n",
              "        [  6,  11, 370,   9],\n",
              "        [  5,   1,   8, 380]]))"
            ]
          },
          "metadata": {
            "tags": []
          },
          "execution_count": 15
        }
      ]
    },
    {
      "cell_type": "code",
      "metadata": {
        "colab": {
          "base_uri": "https://localhost:8080/"
        },
        "id": "C0lQBandr0qj",
        "outputId": "cf2b46c5-69b8-4778-efe3-e6b7931c0914"
      },
      "source": [
        "# here, we have done our test using a statement. it classifies that given statement belongs to which categories.\n",
        "\n",
        "statement=['my computer has 4gb ram','i will become astronaut']\n",
        "\n",
        "#first we will do CountVectorization then TF_IDF\n",
        "count_statement=count.transform(statement)\n",
        "tf_statement=tf_idf.transform(count_statement)\n",
        "pred_statement=nb.predict(tf_statement)\n",
        "\n",
        "\n",
        "pred_statement"
      ],
      "execution_count": null,
      "outputs": [
        {
          "output_type": "execute_result",
          "data": {
            "text/plain": [
              "array([0, 3])"
            ]
          },
          "metadata": {
            "tags": []
          },
          "execution_count": 19
        }
      ]
    },
    {
      "cell_type": "code",
      "metadata": {
        "id": "5y_2C_X5tUUg"
      },
      "source": [
        "## our model predict the right result.\n",
        "## 0: class belongs to comp.graphics category.\n",
        "## 3 class belongs to sci.space category."
      ],
      "execution_count": null,
      "outputs": []
    },
    {
      "cell_type": "code",
      "metadata": {
        "id": "YERKjNHAIiZe"
      },
      "source": [
        ""
      ],
      "execution_count": null,
      "outputs": []
    },
    {
      "cell_type": "code",
      "metadata": {
        "id": "VsrRE9-qIiWv"
      },
      "source": [
        ""
      ],
      "execution_count": null,
      "outputs": []
    }
  ]
}